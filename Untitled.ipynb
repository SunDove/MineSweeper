{
 "cells": [
  {
   "cell_type": "code",
   "execution_count": 1,
   "metadata": {},
   "outputs": [],
   "source": [
    "from engine.aiengine import AIEngine\n",
    "from engine.engine import Engine\n",
    "from engine.datagen import DataGenerator\n",
    "import json\n",
    "import numpy as np\n",
    "import matplotlib.pyplot as plt\n",
    "from sklearn import tree\n",
    "from sklearn.ensemble import RandomForestClassifier\n",
    "from sklearn.model_selection import cross_validate\n",
    "from sklearn.tree import DecisionTreeClassifier\n",
    "from sklearn.svm import LinearSVC\n",
    "from sklearn.linear_model import LogisticRegression\n",
    "from sklearn.neural_network import MLPClassifier"
   ]
  },
  {
   "cell_type": "code",
   "execution_count": 2,
   "metadata": {},
   "outputs": [],
   "source": [
    "with open('vectorizeddataset.json', 'r') as f:\n",
    "    data = json.loads(f.read())"
   ]
  },
  {
   "cell_type": "code",
   "execution_count": 6,
   "metadata": {},
   "outputs": [],
   "source": [
    "TRUE_NEG = 0\n",
    "TRUE_POS = 1\n",
    "FALS_NEG = 2\n",
    "FALS_POS = 3\n",
    "\n",
    "def test_turn(model, engine):\n",
    "    aiengine = AIEngine()\n",
    "    front = engine.get_frontier()\n",
    "    preds = {}\n",
    "    for x, y in front:\n",
    "        space_data = DataGenerator.get_data_for_space(x, y, engine, engine._width, engine._height)\n",
    "        features = aiengine.vectorize_data([space_data])['x']\n",
    "        pred = model.predict_proba(features)\n",
    "        preds[(x, y)] = pred[0][1]\n",
    "    shmove = max(preds, key=lambda key: abs(0.5-(preds[key]+0.01)))\n",
    "    actual = engine.check_location(shmove[0], shmove[1])\n",
    "    prediction = preds[shmove] <= 0.5\n",
    "    if actual:\n",
    "        if prediction:\n",
    "            return TRUE_POS\n",
    "        else:\n",
    "            return FALS_NEG\n",
    "    else:\n",
    "        engine.toggle_flag(shmove[0], shmove[1])\n",
    "        if prediction:\n",
    "            return FALS_POS\n",
    "        else:\n",
    "            return TRUE_NEG\n",
    "\n",
    "def test(model):\n",
    "    TN = 0\n",
    "    TP = 0\n",
    "    FN = 0\n",
    "    FP = 0\n",
    "    for k in range(5):\n",
    "        engine = Engine(15, 15, 50)\n",
    "        engine.check_location(4, 4)\n",
    "        f = engine.get_frontier()\n",
    "        while len(f) > 0:\n",
    "            result = test_turn(model, engine)\n",
    "            if result == TRUE_NEG:\n",
    "                TN += 1\n",
    "            elif result == TRUE_POS:\n",
    "                TP += 1\n",
    "            elif result == FALS_NEG:\n",
    "                FN += 1\n",
    "            elif result == FALS_POS:\n",
    "                FP += 1\n",
    "            else:\n",
    "                print('Unknown Result: ', result)\n",
    "            f = engine.get_frontier()\n",
    "        \n",
    "    return {\n",
    "        'accuracy': (TN + TP)/(TN + TP + FN + FP),\n",
    "        'precision': (TP)/(TP + FP),\n",
    "        'recall': (TP)/(TP + FN)\n",
    "    }\n",
    "    "
   ]
  },
  {
   "cell_type": "code",
   "execution_count": 7,
   "metadata": {},
   "outputs": [
    {
     "name": "stdout",
     "output_type": "stream",
     "text": [
      "2 {'accuracy': 0.6463932107496464, 'precision': 0.6463932107496464, 'recall': 1.0}\n",
      "3 {'accuracy': 0.6913746630727763, 'precision': 0.697151424287856, 'recall': 0.9451219512195121}\n",
      "4 {'accuracy': 0.7095375722543352, 'precision': 0.7032040472175379, 'recall': 0.9434389140271493}\n",
      "5 {'accuracy': 0.7827130852340937, 'precision': 0.7921511627906976, 'recall': 0.934819897084048}\n",
      "6 {'accuracy': 0.7835325365205843, 'precision': 0.7833333333333333, 'recall': 0.9343936381709742}\n",
      "7 {'accuracy': 0.7754010695187166, 'precision': 0.7825342465753424, 'recall': 0.9176706827309237}\n",
      "8 {'accuracy': 0.7994791666666666, 'precision': 0.8063973063973064, 'recall': 0.9247104247104247}\n",
      "9 {'accuracy': 0.7925531914893617, 'precision': 0.7982758620689655, 'recall': 0.9223107569721115}\n",
      "10 {'accuracy': 0.8080684596577017, 'precision': 0.8195956454121306, 'recall': 0.9278169014084507}\n",
      "11 {'accuracy': 0.8075, 'precision': 0.8214285714285714, 'recall': 0.92}\n",
      "12 {'accuracy': 0.7637028014616322, 'precision': 0.7877862595419848, 'recall': 0.9036777583187391}\n",
      "13 {'accuracy': 0.8168316831683168, 'precision': 0.8223270440251572, 'recall': 0.9372759856630825}\n",
      "14 {'accuracy': 0.8092909535452323, 'precision': 0.8249211356466877, 'recall': 0.920774647887324}\n"
     ]
    }
   ],
   "source": [
    "a = []\n",
    "p = []\n",
    "r = []\n",
    "\n",
    "depths = range(2, 15)\n",
    "for i in depths:\n",
    "    res = test(RandomForestClassifier(max_depth=i, n_estimators=10).fit(data['x'], data['y']))\n",
    "    print(i, res)\n",
    "    a.append(res['accuracy'])\n",
    "    p.append(res['precision'])\n",
    "    r.append(res['recall'])"
   ]
  },
  {
   "cell_type": "code",
   "execution_count": 8,
   "metadata": {},
   "outputs": [
    {
     "data": {
      "text/plain": [
       "<matplotlib.legend.Legend at 0x1a236e0fd0>"
      ]
     },
     "execution_count": 8,
     "metadata": {},
     "output_type": "execute_result"
    },
    {
     "data": {
      "image/png": "[encoded data removed]",
      "text/plain": [
       "<Figure size 432x288 with 1 Axes>"
      ]
     },
     "metadata": {
      "needs_background": "light"
     },
     "output_type": "display_data"
    }
   ],
   "source": [
    "plt.plot(depths, a, label='Accuracy')\n",
    "plt.plot(depths, p, label='Precision')\n",
    "plt.plot(depths, r, label='Recall')\n",
    "plt.ylim(0,1)\n",
    "plt.title('Random Forest')\n",
    "plt.xlabel('Max Depth')\n",
    "plt.ylabel('Score')\n",
    "plt.legend()"
   ]
  },
  {
   "cell_type": "code",
   "execution_count": null,
   "metadata": {},
   "outputs": [],
   "source": [
    "bombs = len([d for d in data['y'] if d])\n",
    "notbombs = len([d for d in data['y'] if not d])\n",
    "print(bombs)\n",
    "print(notbombs)"
   ]
  },
  {
   "cell_type": "code",
   "execution_count": 34,
   "metadata": {},
   "outputs": [
    {
     "data": {
      "text/plain": [
       "[0.503811194992617,\n",
       " 0.521488203744634,\n",
       " 0.5072604906674871,\n",
       " 0.5148418312386,\n",
       " 0.5174942561632133,\n",
       " 0.5061816420561789,\n",
       " 0.5039911551570506,\n",
       " 0.49382956931981575,\n",
       " 0.5254008183110684,\n",
       " 0.5210816839760377,\n",
       " 0.493793565811582,\n",
       " 0.5124515302401726,\n",
       " 0.49999315597460736]"
      ]
     },
     "execution_count": 34,
     "metadata": {},
     "output_type": "execute_result"
    }
   ],
   "source": []
  },
  {
   "cell_type": "code",
   "execution_count": null,
   "metadata": {},
   "outputs": [],
   "source": []
  }
 ],
 "metadata": {
  "kernelspec": {
   "display_name": "Python 3",
   "language": "python",
   "name": "python3"
  },
  "language_info": {
   "codemirror_mode": {
    "name": "ipython",
    "version": 3
   },
   "file_extension": ".py",
   "mimetype": "text/x-python",
   "name": "python",
   "nbconvert_exporter": "python",
   "pygments_lexer": "ipython3",
   "version": "3.7.3"
  }
 },
 "nbformat": 4,
 "nbformat_minor": 2
}
